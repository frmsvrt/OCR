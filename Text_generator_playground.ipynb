{
 "cells": [
  {
   "cell_type": "code",
   "execution_count": 342,
   "metadata": {},
   "outputs": [],
   "source": [
    "%matplotlib inline\n",
    "%reload_ext autoreload\n",
    "%autoreload 2"
   ]
  },
  {
   "cell_type": "code",
   "execution_count": 433,
   "metadata": {},
   "outputs": [],
   "source": [
    "import hashlib\n",
    "import itertools\n",
    "import json\n",
    "import os\n",
    "from six.moves import urllib\n",
    "import sys\n",
    "\n",
    "from tqdm import tqdm\n",
    "\n",
    "from PIL import Image, ImageColor, ImageFont, ImageDraw, ImageFilter\n",
    "import random\n",
    "\n",
    "def LetterRange(start, end):\n",
    "    return list(map(chr, range(ord(start), ord(end) + 1)))\n",
    "\n",
    "VOCAB = LetterRange('a', 'z') + LetterRange('A', 'Z') + LetterRange('0', '9')\n",
    "file_ids = [''.join(i) for i in itertools.product(VOCAB, repeat=4)]\n",
    "file_index = {f: i for (i, f) in enumerate(file_ids)}"
   ]
  },
  {
   "cell_type": "code",
   "execution_count": 434,
   "metadata": {},
   "outputs": [
    {
     "data": {
      "text/plain": [
       "14776336"
      ]
     },
     "execution_count": 434,
     "metadata": {},
     "output_type": "execute_result"
    }
   ],
   "source": [
    "len(file_ids)"
   ]
  },
  {
   "cell_type": "code",
   "execution_count": 35,
   "metadata": {},
   "outputs": [],
   "source": [
    "#############\n",
    "import matplotlib.pyplot as plt\n",
    "import matplotlib.image as mimg"
   ]
  },
  {
   "cell_type": "code",
   "execution_count": 12,
   "metadata": {},
   "outputs": [],
   "source": [
    "class AttrDict(dict):\n",
    "    __getattr__ = dict.__getitem__\n",
    "    __setattr__ = dict.__setitem__"
   ]
  },
  {
   "cell_type": "code",
   "execution_count": 13,
   "metadata": {},
   "outputs": [],
   "source": [
    "def defice_cfg_text_gen():\n",
    "    cfg = AttrDict()"
   ]
  },
  {
   "cell_type": "code",
   "execution_count": 243,
   "metadata": {},
   "outputs": [],
   "source": [
    "FONTS = '/home/antares/src/ocr_stuff/TextRecognitionDataGenerator/TextRecognitionDataGenerator/fonts/latin/'\n",
    "BGS = '/home/antares/src/ocr_stuff/TextRecognitionDataGenerator/TextRecognitionDataGenerator/pictures/'\n",
    "\n",
    "fonts = [os.path.join(FONTS, font) for font in\\\n",
    "         os.listdir(FONTS)]\n",
    "\n",
    "bgs = [os.path.join(BGS, bg) for bg in\\\n",
    "         os.listdir(BGS)]"
   ]
  },
  {
   "cell_type": "code",
   "execution_count": 301,
   "metadata": {},
   "outputs": [],
   "source": [
    "def defice_cfg_text_gen():\n",
    "    cfg = AttrDict()\n",
    "    cfg.fonts = fonts\n",
    "    cfg.dict = lines\n",
    "    cfg.bgs = bgs\n",
    "    cfg.fs = [n for n in range(15,50,3)]\n",
    "    return cfg\n",
    "\n",
    "kernel = np.ones((5,5),np.float32)/25"
   ]
  },
  {
   "cell_type": "code",
   "execution_count": 302,
   "metadata": {},
   "outputs": [],
   "source": [
    "cfg_gen = defice_cfg_text_gen()"
   ]
  },
  {
   "cell_type": "code",
   "execution_count": 412,
   "metadata": {},
   "outputs": [],
   "source": [
    "def generate_horizontal_text(text, font, text_color, font_size, space_width):\n",
    "        image_font = ImageFont.truetype(font=font, size=font_size)\n",
    "        \n",
    "        words = text.split(' ')\n",
    "        \n",
    "        space_width = image_font.getsize(' ')[0] * space_width\n",
    "\n",
    "        words_width = [image_font.getsize(w)[0] for w in words]\n",
    "        text_width =  sum(words_width) + int(space_width) * (len(words) - 1)\n",
    "        text_height = max([image_font.getsize(w)[1] for w in words])\n",
    "\n",
    "        roll = np.random.random()\n",
    "        if roll > 0.77:\n",
    "            txt_img = Image.open(random.choice(cfg_gen.bgs))\n",
    "            h, w = txt_img.size\n",
    "            xs, ys = np.random.randint(h-text_width), np.random.randint(w-text_height)\n",
    "            txt_img = txt_img.crop((xs, ys, xs+text_width, ys+text_height))\n",
    "        else:\n",
    "            txt_img = Image.new('RGB', (text_width, text_height), (255, 255, 255))\n",
    "        # print(txt_img.size)\n",
    "\n",
    "        txt_draw = ImageDraw.Draw(txt_img)\n",
    "\n",
    "        colors = [ImageColor.getrgb(c) for c in text_color.split(',')]\n",
    "        c1, c2 = colors[0], colors[-1]\n",
    "\n",
    "        fill = (\n",
    "            random.randint(c1[0], c2[0]),\n",
    "            random.randint(c1[1], c2[1]),\n",
    "            random.randint(c1[2], c2[2])\n",
    "        )\n",
    "\n",
    "        for i, w in enumerate(words):\n",
    "            txt_draw.text((sum(words_width[0:i]) + i * int(space_width), 0), w, fill=fill, font=image_font)\n",
    "\n",
    "        return txt_img"
   ]
  },
  {
   "cell_type": "code",
   "execution_count": 423,
   "metadata": {},
   "outputs": [
    {
     "name": "stderr",
     "output_type": "stream",
     "text": [
      "100it [00:01, 96.35it/s]\n"
     ]
    }
   ],
   "source": [
    "images = []\n",
    "for idx, word in tqdm(enumerate(d[:100])):\n",
    "    roll = np.random.random()\n",
    "    font = random.choice(cfg_gen.fonts)\n",
    "    fs = random.choice(cfg_gen.fs)\n",
    "    text = d[idx]\n",
    "    if len(text) > 13:\n",
    "        text = text[:13]\n",
    "    img = generate_horizontal_text(text,\n",
    "                                   font=font,\n",
    "                                   font_size=fs,\n",
    "                                   space_width=1.3,\n",
    "                                   text_color='black')\n",
    "    if roll > 0.7:\n",
    "        img = cv2.filter2D(np.array(img), -1, kernel)\n",
    "    images.append(img)"
   ]
  },
  {
   "cell_type": "code",
   "execution_count": 424,
   "metadata": {},
   "outputs": [
    {
     "data": {
      "text/plain": [
       "'2,4-'"
      ]
     },
     "execution_count": 424,
     "metadata": {},
     "output_type": "execute_result"
    }
   ],
   "source": [
    "d[10]"
   ]
  },
  {
   "cell_type": "code",
   "execution_count": 427,
   "metadata": {},
   "outputs": [
    {
     "data": {
      "text/plain": [
       "<matplotlib.image.AxesImage at 0x7f6fdb6e67b8>"
      ]
     },
     "execution_count": 427,
     "metadata": {},
     "output_type": "execute_result"
    },
    {
     "data": {
      "image/png": "[encoded data removed]",
      "text/plain": [
       "<Figure size 432x288 with 1 Axes>"
      ]
     },
     "metadata": {
      "needs_background": "light"
     },
     "output_type": "display_data"
    }
   ],
   "source": [
    "plt.imshow(np.array(images[98]))"
   ]
  },
  {
   "cell_type": "code",
   "execution_count": 425,
   "metadata": {},
   "outputs": [
    {
     "data": {
      "text/plain": [
       "<matplotlib.image.AxesImage at 0x7f6fdb70e390>"
      ]
     },
     "execution_count": 425,
     "metadata": {},
     "output_type": "execute_result"
    },
    {
     "data": {
      "image/png": "[encoded data removed]",
      "text/plain": [
       "<Figure size 432x288 with 1 Axes>"
      ]
     },
     "metadata": {
      "needs_background": "light"
     },
     "output_type": "display_data"
    }
   ],
   "source": [
    "plt.imshow(cv2.resize(np.array(images[98]), (180, 64)))"
   ]
  },
  {
   "cell_type": "code",
   "execution_count": 411,
   "metadata": {},
   "outputs": [],
   "source": [
    "images[6].save('asd', 'JPEG')"
   ]
  },
  {
   "cell_type": "code",
   "execution_count": 426,
   "metadata": {},
   "outputs": [
    {
     "data": {
      "text/plain": [
       "(34, 125, 3)"
      ]
     },
     "execution_count": 426,
     "metadata": {},
     "output_type": "execute_result"
    }
   ],
   "source": [
    "np.array(images[99]).shape"
   ]
  },
  {
   "cell_type": "code",
   "execution_count": 61,
   "metadata": {},
   "outputs": [
    {
     "data": {
      "text/plain": [
       "'/home/antares/src/ocr_stuff/TextRecognitionDataGenerator/TextRecognitionDataGenerator/fonts/latin/CaviarDreams_Italic.ttf'"
      ]
     },
     "execution_count": 61,
     "metadata": {},
     "output_type": "execute_result"
    }
   ],
   "source": [
    "random.choice(cfg_gen.fonts)"
   ]
  },
  {
   "cell_type": "code",
   "execution_count": 175,
   "metadata": {},
   "outputs": [],
   "source": [
    "with open('/home/antares/src/ocr_stuff/TextRecognitionDataGenerator/TextRecognitionDataGenerator/dicts/en.txt', 'r') as f:\n",
    "        d = f.readlines()\n",
    "d = [l[:-2] for l in d]\n",
    "d = d[1:]"
   ]
  },
  {
   "cell_type": "code",
   "execution_count": 176,
   "metadata": {},
   "outputs": [
    {
     "data": {
      "text/plain": [
       "['108',\n",
       " '&',\n",
       " '10-poin',\n",
       " '10t',\n",
       " '11-poin',\n",
       " '12-poin',\n",
       " '16-poin',\n",
       " '18-poin',\n",
       " '1s',\n",
       " '2,4,5-']"
      ]
     },
     "execution_count": 176,
     "metadata": {},
     "output_type": "execute_result"
    }
   ],
   "source": [
    "d[:10]"
   ]
  },
  {
   "cell_type": "code",
   "execution_count": 325,
   "metadata": {},
   "outputs": [],
   "source": [
    "alph = ''\n",
    "for label in d:\n",
    "    for c in label:\n",
    "        if c not in alph:\n",
    "            alph += c"
   ]
  },
  {
   "cell_type": "code",
   "execution_count": 324,
   "metadata": {},
   "outputs": [
    {
     "data": {
      "text/plain": [
       "False"
      ]
     },
     "execution_count": 324,
     "metadata": {},
     "output_type": "execute_result"
    }
   ],
   "source": [
    "a = 'asd'\n",
    "'b' in a"
   ]
  },
  {
   "cell_type": "code",
   "execution_count": 326,
   "metadata": {},
   "outputs": [
    {
     "data": {
      "text/plain": [
       "'108&-point26s,453rG79aA.BCDFMHILPNRSUVwWObechEludqyvkg\\'xjfmzTKYJXZQ\"'"
      ]
     },
     "execution_count": 326,
     "metadata": {},
     "output_type": "execute_result"
    }
   ],
   "source": [
    "alph"
   ]
  },
  {
   "cell_type": "code",
   "execution_count": 330,
   "metadata": {},
   "outputs": [
    {
     "data": {
      "text/plain": [
       "68"
      ]
     },
     "execution_count": 330,
     "metadata": {},
     "output_type": "execute_result"
    }
   ],
   "source": [
    "alph = ''.join(sorted(alph))\n",
    "len(alph)"
   ]
  },
  {
   "cell_type": "code",
   "execution_count": 331,
   "metadata": {},
   "outputs": [],
   "source": [
    "!touch test"
   ]
  },
  {
   "cell_type": "code",
   "execution_count": 335,
   "metadata": {},
   "outputs": [],
   "source": [
    "with open('test', 'a') as f:\n",
    "    f.write('b\\n')"
   ]
  },
  {
   "cell_type": "code",
   "execution_count": 336,
   "metadata": {},
   "outputs": [
    {
     "name": "stdout",
     "output_type": "stream",
     "text": [
      "a\r\n",
      "b\r\n"
     ]
    }
   ],
   "source": [
    "!cat test"
   ]
  },
  {
   "cell_type": "code",
   "execution_count": 362,
   "metadata": {},
   "outputs": [
    {
     "data": {
      "text/plain": [
       "'Abbat'"
      ]
     },
     "execution_count": 362,
     "metadata": {},
     "output_type": "execute_result"
    }
   ],
   "source": [
    "d[321]"
   ]
  },
  {
   "cell_type": "code",
   "execution_count": 343,
   "metadata": {},
   "outputs": [],
   "source": [
    "import helpers"
   ]
  },
  {
   "cell_type": "code",
   "execution_count": 346,
   "metadata": {},
   "outputs": [],
   "source": [
    "x = helpers.strLabelConverter(alph, ignore_case=False)"
   ]
  },
  {
   "cell_type": "code",
   "execution_count": 355,
   "metadata": {},
   "outputs": [
    {
     "data": {
      "text/plain": [
       "'Abbat'"
      ]
     },
     "execution_count": 355,
     "metadata": {},
     "output_type": "execute_result"
    }
   ],
   "source": [
    "d[321]"
   ]
  },
  {
   "cell_type": "code",
   "execution_count": 363,
   "metadata": {},
   "outputs": [
    {
     "data": {
      "text/plain": [
       "tensor([17, 44, 44, 43, 62], dtype=torch.int32)"
      ]
     },
     "execution_count": 363,
     "metadata": {},
     "output_type": "execute_result"
    }
   ],
   "source": [
    "x.encode(d[321])[0]"
   ]
  },
  {
   "cell_type": "code",
   "execution_count": 364,
   "metadata": {},
   "outputs": [
    {
     "data": {
      "text/plain": [
       "'Abbat'"
      ]
     },
     "execution_count": 364,
     "metadata": {},
     "output_type": "execute_result"
    }
   ],
   "source": [
    "x.decode(x.encode(d[321])[0], x.encode(d[321])[1], True)"
   ]
  },
  {
   "cell_type": "code",
   "execution_count": 432,
   "metadata": {},
   "outputs": [
    {
     "data": {
      "text/plain": [
       "array([1.        , 1.16666667, 1.33333333, 1.5       , 1.66666667,\n",
       "       1.83333333, 2.        , 2.16666667, 2.33333333, 2.5       ])"
      ]
     },
     "execution_count": 432,
     "metadata": {},
     "output_type": "execute_result"
    }
   ],
   "source": [
    "np.linspace(1,2.5,10)"
   ]
  },
  {
   "cell_type": "code",
   "execution_count": null,
   "metadata": {},
   "outputs": [],
   "source": []
  }
 ],
 "metadata": {
  "kernelspec": {
   "display_name": "Python 3",
   "language": "python",
   "name": "python3"
  },
  "language_info": {
   "codemirror_mode": {
    "name": "ipython",
    "version": 3
   },
   "file_extension": ".py",
   "mimetype": "text/x-python",
   "name": "python",
   "nbconvert_exporter": "python",
   "pygments_lexer": "ipython3",
   "version": "3.6.4"
  }
 },
 "nbformat": 4,
 "nbformat_minor": 2
}
