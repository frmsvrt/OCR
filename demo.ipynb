{
 "cells": [
  {
   "cell_type": "code",
   "execution_count": 4,
   "metadata": {},
   "outputs": [],
   "source": [
    "import torch\n",
    "from torch.autograd import Variable as V\n",
    "import torchvision.transforms as T\n",
    "\n",
    "import cv2\n",
    "import skimage.io as io\n",
    "# import skimage.filter\n",
    "import pandas as pd\n",
    "import numpy as np\n",
    "\n",
    "import matplotlib.pyplot as plt\n",
    "import matplotlib.image as mimg\n",
    "\n",
    "from configs import generator_cfg, trainer_cfg\n",
    "from helpers import Converter, affineT\n",
    "from models import crnn\n",
    "\n",
    "# uncomment after run generate.py\n",
    "# datafile = pd.read_csv('./data/data.csv', sep=';', header=None)\n",
    "\n",
    "%matplotlib inline\n",
    "\n",
    "from generator import generate\n",
    "from configs import generator_cfg\n",
    "import random"
   ]
  },
  {
   "cell_type": "code",
   "execution_count": 5,
   "metadata": {},
   "outputs": [],
   "source": [
    "t_cfg = trainer_cfg()\n",
    "d_cfg = generator_cfg()\n",
    "cvrt = Converter(d_cfg.alph, ignore_case=False)"
   ]
  },
  {
   "cell_type": "code",
   "execution_count": 6,
   "metadata": {},
   "outputs": [
    {
     "name": "stdout",
     "output_type": "stream",
     "text": [
      "\n",
      "!\"&',-.0123456789ABCDEFGHIJKLMNOPQRSTUVWXYZabcdefghijklmnopqrstuvwxyz\n"
     ]
    }
   ],
   "source": [
    "print(d_cfg.alph)"
   ]
  },
  {
   "cell_type": "code",
   "execution_count": 28,
   "metadata": {},
   "outputs": [],
   "source": [
    "def _predict(model, text, gt):\n",
    "    if isinstance(text, str):\n",
    "        img = io.imread(fname)\n",
    "    else:\n",
    "        img = np.asarray(text)\n",
    "    # img -= mean\n",
    "    # img /= std\n",
    "    img = cv2.resize(img, (128, 32))\n",
    "    img = np.moveaxis(img, -1, 0)\n",
    "    img = np.expand_dims(img, 0)\n",
    "    Y = model(V(torch.from_numpy(img).float().to(device)))\n",
    "    ret = cvrt.decode_probs(Y)\n",
    "    if ret.lower() == gt.lower():\n",
    "        return True, ret, gt\n",
    "    else:\n",
    "        return False, ret, gt"
   ]
  },
  {
   "cell_type": "code",
   "execution_count": 148,
   "metadata": {},
   "outputs": [],
   "source": [
    "device = torch.device(\"cuda\" if torch.cuda.is_available() else \"cpu\")\n",
    "if device == \"cuda\":\n",
    "    model = torch.load('./ckpts/model_.pt').to(device)\n",
    "else:\n",
    "    model = torch.load('./ckpts/model_.pt', map_location=\"cpu\")"
   ]
  },
  {
   "cell_type": "code",
   "execution_count": 77,
   "metadata": {},
   "outputs": [
    {
     "data": {
      "image/png": "[encoded data removed]",
      "text/plain": [
       "<PIL.Image.Image image mode=RGB size=109x30 at 0x7F2DCB1FFD30>"
      ]
     },
     "execution_count": 77,
     "metadata": {},
     "output_type": "execute_result"
    }
   ],
   "source": [
    "text = 'Gentoo'\n",
    "img = generate(text=text, font=random.choice(d_cfg.fonts), text_color='black', font_size=33, space_width=2)\n",
    "img#.resize(128, 32)"
   ]
  },
  {
   "cell_type": "code",
   "execution_count": 78,
   "metadata": {},
   "outputs": [
    {
     "data": {
      "text/plain": [
       "<matplotlib.image.AxesImage at 0x7f2dcb1a8630>"
      ]
     },
     "execution_count": 78,
     "metadata": {},
     "output_type": "execute_result"
    },
    {
     "data": {
      "image/png": "[encoded data removed]",
      "text/plain": [
       "<Figure size 432x288 with 1 Axes>"
      ]
     },
     "metadata": {
      "needs_background": "light"
     },
     "output_type": "display_data"
    }
   ],
   "source": [
    "img = affineT(img)\n",
    "plt.imshow(img)"
   ]
  },
  {
   "cell_type": "code",
   "execution_count": 79,
   "metadata": {},
   "outputs": [
    {
     "data": {
      "text/plain": [
       "(True, 'Gentoo', 'Gentoo')"
      ]
     },
     "execution_count": 79,
     "metadata": {},
     "output_type": "execute_result"
    }
   ],
   "source": [
    "_predict(model, img, text)"
   ]
  },
  {
   "cell_type": "code",
   "execution_count": 81,
   "metadata": {},
   "outputs": [
    {
     "data": {
      "image/png": "[encoded data removed]",
      "text/plain": [
       "<PIL.Image.Image image mode=RGB size=118x30 at 0x7F2DCB1A8CF8>"
      ]
     },
     "execution_count": 81,
     "metadata": {},
     "output_type": "execute_result"
    }
   ],
   "source": [
    "vk = generate(text='VK.com', font=random.choice(d_cfg.fonts), text_color='blue', font_size=33, space_width=2.5)\n",
    "vk"
   ]
  },
  {
   "cell_type": "code",
   "execution_count": 82,
   "metadata": {},
   "outputs": [
    {
     "data": {
      "text/plain": [
       "(True, 'VK.com', 'VK.com')"
      ]
     },
     "execution_count": 82,
     "metadata": {},
     "output_type": "execute_result"
    }
   ],
   "source": [
    "_predict(model,vk, 'VK.com')"
   ]
  },
  {
   "cell_type": "code",
   "execution_count": 116,
   "metadata": {},
   "outputs": [
    {
     "name": "stdout",
     "output_type": "stream",
     "text": [
      "<PIL.Image.Image image mode=RGB size=122x33 at 0x7F2D9469D2E8>\n",
      "(False, 'one-Twc', 'one-Two')\n"
     ]
    },
    {
     "data": {
      "image/png": "[encoded data removed]",
      "text/plain": [
       "<Figure size 432x288 with 1 Axes>"
      ]
     },
     "metadata": {
      "needs_background": "light"
     },
     "output_type": "display_data"
    }
   ],
   "source": [
    "text = 'one-Two'\n",
    "img = generate(text=text, font=random.choice(d_cfg.fonts), text_color='black', font_size=33, space_width=2)\n",
    "print(img)#.resize(128, 32)\n",
    "img = affineT(img)\n",
    "plt.imshow(img)\n",
    "print(_predict(model, img, text))"
   ]
  },
  {
   "cell_type": "code",
   "execution_count": 205,
   "metadata": {},
   "outputs": [
    {
     "name": "stdout",
     "output_type": "stream",
     "text": [
      "(False, 'abdicant', 'felt-shod')\n"
     ]
    },
    {
     "data": {
      "text/plain": [
       "<matplotlib.image.AxesImage at 0x7ff2578d60b8>"
      ]
     },
     "execution_count": 205,
     "metadata": {},
     "output_type": "execute_result"
    },
    {
     "data": {
      "image/png": "[encoded data removed]",
      "text/plain": [
       "<Figure size 432x288 with 1 Axes>"
      ]
     },
     "metadata": {
      "needs_background": "light"
     },
     "output_type": "display_data"
    }
   ],
   "source": [
    "# idx=23\n",
    "# print(_predict(model, fnames[fp[idx]], gt[fp[idx]]))\n",
    "# plt.imshow(io.imread(fnames[fp[idx]]))"
   ]
  },
  {
   "cell_type": "code",
   "execution_count": 437,
   "metadata": {},
   "outputs": [],
   "source": [
    "with open('./misc/dicts/en.txt', 'r') as f:\n",
    "    d = f.readlines()"
   ]
  },
  {
   "cell_type": "code",
   "execution_count": null,
   "metadata": {},
   "outputs": [],
   "source": [
    "dd = dict()\n",
    "for idx, c in enumerate(d_cfg.alph):\n",
    "    dd[c] = idx"
   ]
  },
  {
   "cell_type": "code",
   "execution_count": 456,
   "metadata": {},
   "outputs": [],
   "source": [
    "stats = np.zeros((len(d_cfg.alph))).astype(np.uint8)"
   ]
  },
  {
   "cell_type": "code",
   "execution_count": 457,
   "metadata": {},
   "outputs": [],
   "source": [
    "for l in d:\n",
    "    for c in l:\n",
    "        col = dd[c]\n",
    "        stats[col] += 1"
   ]
  },
  {
   "cell_type": "code",
   "execution_count": 482,
   "metadata": {},
   "outputs": [],
   "source": [
    "def count_elements(seq):\n",
    "    hist = {}\n",
    "    for i in seq:\n",
    "        hist[i] = hist.get(i, 0) + 1\n",
    "    return hist\n",
    "\n",
    "def old_hist(seq):\n",
    "    counted = count_elements(seq)\n",
    "    for k in sorted(counted):\n",
    "        print('{0:5s} {1}'.format(k, '+' * counted[k]))"
   ]
  },
  {
   "cell_type": "code",
   "execution_count": 480,
   "metadata": {},
   "outputs": [],
   "source": [
    "dat = []\n",
    "for f, v in zip(stats, d_cfg.alph):\n",
    "    dat.extend([v] * int(f/5))"
   ]
  },
  {
   "cell_type": "code",
   "execution_count": 483,
   "metadata": {},
   "outputs": [
    {
     "name": "stdout",
     "output_type": "stream",
     "text": [
      "\n",
      "     +++++++++\n",
      "&     +\n",
      "'     +++++++++++++++++++++++++\n",
      "-     +++++++++++++\n",
      ".     ++++++++++++++++++++++++++++++++++++++++++++++++\n",
      "0     +\n",
      "1     ++++++\n",
      "2     ++++\n",
      "3     ++\n",
      "4     ++\n",
      "5     +\n",
      "6     +\n",
      "8     +\n",
      "9     +\n",
      "B     +++++++++++++++++++++++++++++++++++++++++\n",
      "C     +++++++++++++++++++++++++++++++++++++++++\n",
      "D     ++++++++++++++++++\n",
      "E     ++++++++++++++\n",
      "F     ++++++++++++++++++++++++++++++++++++++++++++\n",
      "G     +++++\n",
      "H     ++++++++++++++++++++++++++++++++++++++++++++++++\n",
      "I     ++++++++++++++++++++++++\n",
      "J     ++++++++++++++++++++++++++++++++++\n",
      "K     +++++++++++++++++++++++++++++++++++\n",
      "L     +++++++++++++++++++++++++++++++++++++++++++\n",
      "M     ++++++++++++++++++++++++++++++++++++++++\n",
      "N     ++++++++++++++++++++++++\n",
      "O     +++++++++++++++++++++++++++++++++++++++++++++++++\n",
      "P     ++++++++++++++\n",
      "Q     ++++++++++++++++++++\n",
      "R     ++++++\n",
      "S     +++++++++++++++++++++++++++++++++++++++++++++++++\n",
      "U     +++++++++++++++++++++++++++++++++++++++\n",
      "V     ++++++++++++++++\n",
      "W     ++++++++++++++++++++++++++++++++\n",
      "X     ++++\n",
      "Y     ++++++++++\n",
      "Z     +++++++++++++++++++++++++++++++\n",
      "a     +++++++++\n",
      "b     ++++++++++++++++\n",
      "c     +++++++++++++++++\n",
      "d     +\n",
      "e     ++++++++++++++++++++++++++++\n",
      "f     ++++++++++++++++++++++++++++\n",
      "g     +++++++++++++++++++++++++++\n",
      "h     +\n",
      "i     ++++++++++++++++++++++++++++++++++++++++++++++\n",
      "j     +++++++++++++++++++++++++++++++++++++++++\n",
      "k     ++++++\n",
      "l     ++++++++++++++++++++++++++++++++++++++\n",
      "m     +++++++++++++++++\n",
      "n     ++++++++++++++++++++++++++++\n",
      "o     ++++++++++++++++\n",
      "p     ++++++++++++++++++++++++++++++++++++++++++++++++++\n",
      "q     +++++++++++\n",
      "r     +++++++++++++++++++++++++++++++++++++++++++++++++++\n",
      "s     ++++++++++++++++++++++++++\n",
      "t     +++++++++++++++++++++++++\n",
      "u     ++++++++++++++++++\n",
      "v     ++++++++++++\n",
      "w     +++++++++++++++++++++++++++++++++++++++++++++++++\n",
      "x     ++++++++++++\n",
      "y     ++\n",
      "z     ++++++++++++++++++++++\n"
     ]
    }
   ],
   "source": [
    "old_hist(dat)"
   ]
  }
 ],
 "metadata": {
  "kernelspec": {
   "display_name": "Python 3",
   "language": "python",
   "name": "python3"
  },
  "language_info": {
   "codemirror_mode": {
    "name": "ipython",
    "version": 3
   },
   "file_extension": ".py",
   "mimetype": "text/x-python",
   "name": "python",
   "nbconvert_exporter": "python",
   "pygments_lexer": "ipython3",
   "version": "3.6.4"
  }
 },
 "nbformat": 4,
 "nbformat_minor": 2
}
