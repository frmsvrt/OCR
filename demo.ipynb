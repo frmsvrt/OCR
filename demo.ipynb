{
 "cells": [
  {
   "cell_type": "code",
   "execution_count": 204,
   "metadata": {},
   "outputs": [],
   "source": [
    "import torch\n",
    "from torch.autograd import Variable as V\n",
    "import torchvision.transforms as T\n",
    "\n",
    "import cv2\n",
    "import skimage.io as io\n",
    "# import skimage.filter\n",
    "import pandas as pd\n",
    "import numpy as np\n",
    "\n",
    "import matplotlib.pyplot as plt\n",
    "import matplotlib.image as mimg\n",
    "\n",
    "from configs import generator_cfg, trainer_cfg\n",
    "from helpers import Converter\n",
    "from models import crnn\n",
    "\n",
    "# uncomment after run generate.py\n",
    "# datafile = pd.read_csv('./data/data.csv', sep=';', header=None)\n",
    "\n",
    "%matplotlib inline\n",
    "\n",
    "from generator import generate\n",
    "from configs import generator_cfg\n",
    "import random\n",
    "cfg = generator_cfg()"
   ]
  },
  {
   "cell_type": "code",
   "execution_count": 147,
   "metadata": {},
   "outputs": [],
   "source": [
    "t_cfg = trainer_cfg()\n",
    "d_cfg = generator_cfg()\n",
    "cvrt = Converter(d_cfg.alph, ignore_case=False)"
   ]
  },
  {
   "cell_type": "code",
   "execution_count": 156,
   "metadata": {},
   "outputs": [],
   "source": [
    "device = torch.device(\"cuda\" if torch.cuda.is_available() else \"cpu\")\n",
    "model = torch.load('./model.pt').to(device)"
   ]
  },
  {
   "cell_type": "code",
   "execution_count": 252,
   "metadata": {},
   "outputs": [
    {
     "data": {
      "image/png": "[encoded data removed]",
      "text/plain": [
       "<PIL.Image.Image image mode=RGB size=102x36 at 0x7FF25789A2E8>"
      ]
     },
     "execution_count": 252,
     "metadata": {},
     "output_type": "execute_result"
    }
   ],
   "source": [
    "vk = generate(text='vk.com', font=random.choice(d_cfg.fonts), text_color='black', font_size=33, space_width=2)\n",
    "vk"
   ]
  },
  {
   "cell_type": "code",
   "execution_count": 253,
   "metadata": {},
   "outputs": [
    {
     "data": {
      "image/png": "[encoded data removed]",
      "text/plain": [
       "<PIL.Image.Image image mode=RGB size=96x32 at 0x7FF257890160>"
      ]
     },
     "execution_count": 253,
     "metadata": {},
     "output_type": "execute_result"
    }
   ],
   "source": [
    "vk.resize((96, 32))"
   ]
  },
  {
   "cell_type": "code",
   "execution_count": 254,
   "metadata": {},
   "outputs": [
    {
     "data": {
      "text/plain": [
       "(True, 'vk.com', 'vk.com')"
      ]
     },
     "execution_count": 254,
     "metadata": {},
     "output_type": "execute_result"
    }
   ],
   "source": [
    "_predict(model, vk, 'vk.com')"
   ]
  },
  {
   "cell_type": "code",
   "execution_count": 216,
   "metadata": {},
   "outputs": [],
   "source": [
    "def _predict(model, text, gt):\n",
    "    if isinstance(text, str):\n",
    "        img = io.imread(fname)\n",
    "    else:\n",
    "        img = np.asarray(text)\n",
    "    # img -= mean\n",
    "    # img /= std\n",
    "    img = cv2.resize(img, (96, 32))\n",
    "    img = np.moveaxis(img, -1, 0)\n",
    "    img = np.expand_dims(img, 0)\n",
    "    Y = model(V(torch.from_numpy(img).float().to(device)))\n",
    "    ret = cvrt.decode_probs(Y)\n",
    "    if ret.lower() == gt.lower():\n",
    "        return True, ret, gt\n",
    "    else:\n",
    "        return False, ret, gt"
   ]
  },
  {
   "cell_type": "code",
   "execution_count": 205,
   "metadata": {},
   "outputs": [
    {
     "name": "stdout",
     "output_type": "stream",
     "text": [
      "(False, 'abdicant', 'felt-shod')\n"
     ]
    },
    {
     "data": {
      "text/plain": [
       "<matplotlib.image.AxesImage at 0x7ff2578d60b8>"
      ]
     },
     "execution_count": 205,
     "metadata": {},
     "output_type": "execute_result"
    },
    {
     "data": {
      "image/png": "[encoded data removed]",
      "text/plain": [
       "<Figure size 432x288 with 1 Axes>"
      ]
     },
     "metadata": {
      "needs_background": "light"
     },
     "output_type": "display_data"
    }
   ],
   "source": [
    "idx=23\n",
    "print(_predict(model, fnames[fp[idx]], gt[fp[idx]]))\n",
    "plt.imshow(io.imread(fnames[fp[idx]]))"
   ]
  },
  {
   "cell_type": "code",
   "execution_count": 207,
   "metadata": {},
   "outputs": [],
   "source": [
    "io.imsave('./misc/false.jpeg', io.imread(fnames[fp[idx]]))"
   ]
  },
  {
   "cell_type": "code",
   "execution_count": 258,
   "metadata": {},
   "outputs": [
    {
     "data": {
      "text/plain": [
       "81.35584137191854"
      ]
     },
     "execution_count": 258,
     "metadata": {},
     "output_type": "execute_result"
    }
   ],
   "source": [
    "100-len(fp)/933"
   ]
  }
 ],
 "metadata": {
  "kernelspec": {
   "display_name": "Python 3",
   "language": "python",
   "name": "python3"
  },
  "language_info": {
   "codemirror_mode": {
    "name": "ipython",
    "version": 3
   },
   "file_extension": ".py",
   "mimetype": "text/x-python",
   "name": "python",
   "nbconvert_exporter": "python",
   "pygments_lexer": "ipython3",
   "version": "3.6.4"
  }
 },
 "nbformat": 4,
 "nbformat_minor": 2
}
