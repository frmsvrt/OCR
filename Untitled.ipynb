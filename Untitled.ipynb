{
 "cells": [
  {
   "cell_type": "code",
   "execution_count": 12,
   "metadata": {},
   "outputs": [],
   "source": [
    "import  matplotlib.pyplot as plt\n",
    "%matplotlib inline"
   ]
  },
  {
   "cell_type": "code",
   "execution_count": 7,
   "metadata": {},
   "outputs": [],
   "source": [
    "import math\n",
    "import cv2\n",
    "import numpy as np\n",
    "\n",
    "\n",
    "def wordSegmentation(img, kernelSize=25, sigma=11, theta=7, minArea=0):\n",
    "    kernel = createKernel(kernelSize, sigma, theta)\n",
    "    imgFiltered = cv2.filter2D(img, -1, kernel, borderType=cv2.BORDER_REPLICATE).astype(np.uint8)\n",
    "    (_, imgThres) = cv2.threshold(imgFiltered, 0, 255, cv2.THRESH_BINARY+cv2.THRESH_OTSU)\n",
    "    imgThres = 255 - imgThres\n",
    "\n",
    "    (_, components, _) = cv2.findContours(imgThres, cv2.RETR_EXTERNAL, cv2.CHAIN_APPROX_SIMPLE)\n",
    "    \n",
    "    res = []\n",
    "    for c in components:\n",
    "        # skip small word candidates\n",
    "        if cv2.contourArea(c) < minArea:\n",
    "            continue\n",
    "        # append bounding box and image of word to result list\n",
    "        currBox = cv2.boundingRect(c) # returns (x, y, w, h)\n",
    "        (x, y, w, h) = currBox\n",
    "        currImg = img[y:y+h, x:x+w]\n",
    "        res.append((currBox, currImg))\n",
    "\n",
    "    # return list of words, sorted by x-coordinate\n",
    "    return sorted(res, key=lambda entry:entry[0][0])\n",
    "\n",
    "\n",
    "def prepareImg(img, height):\n",
    "    \"\"\"convert given image to grayscale image (if needed) and resize to desired height\"\"\"\n",
    "    assert img.ndim in (2, 3)\n",
    "    if img.ndim == 3:\n",
    "        img = cv2.cvtColor(img, cv2.COLOR_BGR2GRAY)\n",
    "    h = img.shape[0]\n",
    "    factor = height / h\n",
    "    return cv2.resize(img, dsize=None, fx=factor, fy=factor)\n",
    "\n",
    "\n",
    "def createKernel(kernelSize, sigma, theta):\n",
    "    \"\"\"create anisotropic filter kernel according to given parameters\"\"\"\n",
    "    assert kernelSize % 2 # must be odd size\n",
    "    halfSize = kernelSize // 2\n",
    "\n",
    "    kernel = np.zeros([kernelSize, kernelSize])\n",
    "    sigmaX = sigma\n",
    "    sigmaY = sigma * theta\n",
    "\n",
    "    for i in range(kernelSize):\n",
    "        for j in range(kernelSize):\n",
    "            x = i - halfSize\n",
    "            y = j - halfSize\n",
    "\n",
    "            expTerm = np.exp(-x**2 / (2 * sigmaX) - y**2 / (2 * sigmaY))\n",
    "            xTerm = (x**2 - sigmaX**2) / (2 * math.pi * sigmaX**5 * sigmaY)\n",
    "            yTerm = (y**2 - sigmaY**2) / (2 * math.pi * sigmaY**5 * sigmaX)\n",
    "\n",
    "            kernel[i, j] = (xTerm + yTerm) * expTerm\n",
    "\n",
    "    kernel = kernel / np.sum(kernel)\n",
    "    return kernel"
   ]
  },
  {
   "cell_type": "code",
   "execution_count": 45,
   "metadata": {},
   "outputs": [],
   "source": [
    "def main(fname):\n",
    "    img = prepareImg(cv2.imread(fname), 200)[:45,30:-70]\n",
    "    res = wordSegmentation(img, kernelSize=11, sigma=11, theta=7, minArea=10)\n",
    "\n",
    "    print('Segmented into %d words'%len(res))\n",
    "    for (j, w) in enumerate(res):\n",
    "        (wordBox, wordImg) = w\n",
    "        (x, y, w, h) = wordBox\n",
    "        cv2.rectangle(img,(x,y),(x+w,y+h),0,1)\n",
    "    return img"
   ]
  },
  {
   "cell_type": "code",
   "execution_count": 46,
   "metadata": {},
   "outputs": [
    {
     "name": "stdout",
     "output_type": "stream",
     "text": [
      "Segmented into 4 words\n"
     ]
    }
   ],
   "source": [
    "im = main('./misc/figure-65.png')"
   ]
  },
  {
   "cell_type": "code",
   "execution_count": 47,
   "metadata": {},
   "outputs": [
    {
     "data": {
      "text/plain": [
       "<matplotlib.image.AxesImage at 0x7fd1cd6c62b0>"
      ]
     },
     "execution_count": 47,
     "metadata": {},
     "output_type": "execute_result"
    },
    {
     "data": {
      "image/png": "[encoded data removed]",
      "text/plain": [
       "<Figure size 432x288 with 1 Axes>"
      ]
     },
     "metadata": {
      "needs_background": "light"
     },
     "output_type": "display_data"
    }
   ],
   "source": [
    "plt.imshow(im)"
   ]
  },
  {
   "cell_type": "code",
   "execution_count": null,
   "metadata": {},
   "outputs": [],
   "source": [
    "for i=1:ks\n",
    "for j=1:ks\n",
    "x=i-5;\n",
    "y=i-5;\n",
    "expTerm = exp(-x^2 / (2 * sigmaX) - y^2 / (2 * sigmaY));\n",
    "xTerm = (x^2 - sigmaX^2) / (2 * pi * sigmaX^5 * sigmaY);\n",
    "yTerm = (y^2 - sigmaY^2) / (2 * pi * sigmaY^5 * sigmaX);\n",
    "filter(i,j)=(xTerm+yTerm)*expTerm;\n",
    "end\n",
    "end"
   ]
  }
 ],
 "metadata": {
  "kernelspec": {
   "display_name": "Python 3",
   "language": "python",
   "name": "python3"
  },
  "language_info": {
   "codemirror_mode": {
    "name": "ipython",
    "version": 3
   },
   "file_extension": ".py",
   "mimetype": "text/x-python",
   "name": "python",
   "nbconvert_exporter": "python",
   "pygments_lexer": "ipython3",
   "version": "3.6.4"
  }
 },
 "nbformat": 4,
 "nbformat_minor": 2
}
